{
 "cells": [
  {
   "cell_type": "code",
   "execution_count": 1,
   "id": "32df9bd6-d15f-4c30-9dab-bb7d110cd8ad",
   "metadata": {},
   "outputs": [],
   "source": [
    "## Junior Data Scientist – Trader Behavior Insights"
   ]
  },
  {
   "cell_type": "code",
   "execution_count": 2,
   "id": "3457159e-f405-410d-a7b9-0c56592d60e5",
   "metadata": {},
   "outputs": [
    {
     "name": "stdout",
     "output_type": "stream",
     "text": [
      "All library imported\n"
     ]
    }
   ],
   "source": [
    "# import the library\n",
    "import pandas as pd\n",
    "import numpy as np\n",
    "import matplotlib.pyplot as plt\n",
    "import seaborn as sns\n",
    "print('All library imported')"
   ]
  },
  {
   "cell_type": "code",
   "execution_count": 3,
   "id": "40cc6db0-b4e5-43e1-91a0-44576da7681c",
   "metadata": {},
   "outputs": [
    {
     "name": "stdout",
     "output_type": "stream",
     "text": [
      "Data imported\n"
     ]
    }
   ],
   "source": [
    "# load the Historical dataset\n",
    "hisdata=pd.read_csv('Downloads/crypto project/historical_data.csv')\n",
    "print('Data imported')"
   ]
  },
  {
   "cell_type": "code",
   "execution_count": 4,
   "id": "12bc0865-67e0-4c40-ab87-1d75280d4a27",
   "metadata": {},
   "outputs": [
    {
     "name": "stdout",
     "output_type": "stream",
     "text": [
      "Data imported\n"
     ]
    }
   ],
   "source": [
    "# load the Market Sentiment dataset\n",
    "fgdata=pd.read_csv('Downloads/crypto project/fear_greed_index.csv')\n",
    "print('Data imported')"
   ]
  },
  {
   "cell_type": "code",
   "execution_count": 5,
   "id": "5d399331-cc41-4299-8fe9-739f7102cbfa",
   "metadata": {},
   "outputs": [
    {
     "name": "stdout",
     "output_type": "stream",
     "text": [
      "<class 'pandas.core.frame.DataFrame'>\n",
      "RangeIndex: 211224 entries, 0 to 211223\n",
      "Data columns (total 16 columns):\n",
      " #   Column            Non-Null Count   Dtype  \n",
      "---  ------            --------------   -----  \n",
      " 0   Account           211224 non-null  object \n",
      " 1   Coin              211224 non-null  object \n",
      " 2   Execution Price   211224 non-null  float64\n",
      " 3   Size Tokens       211224 non-null  float64\n",
      " 4   Size USD          211224 non-null  float64\n",
      " 5   Side              211224 non-null  object \n",
      " 6   Timestamp IST     211224 non-null  object \n",
      " 7   Start Position    211224 non-null  float64\n",
      " 8   Direction         211224 non-null  object \n",
      " 9   Closed PnL        211224 non-null  float64\n",
      " 10  Transaction Hash  211224 non-null  object \n",
      " 11  Order ID          211224 non-null  int64  \n",
      " 12  Crossed           211224 non-null  bool   \n",
      " 13  Fee               211224 non-null  float64\n",
      " 14  Trade ID          211224 non-null  float64\n",
      " 15  Timestamp         211224 non-null  float64\n",
      "dtypes: bool(1), float64(8), int64(1), object(6)\n",
      "memory usage: 24.4+ MB\n"
     ]
    }
   ],
   "source": [
    "hisdata.info() # inspect the Historicaldata"
   ]
  },
  {
   "cell_type": "code",
   "execution_count": 6,
   "id": "f6b7e96f-cdcd-4379-9bf5-15c16c699cc6",
   "metadata": {},
   "outputs": [
    {
     "data": {
      "text/html": [
       "<div>\n",
       "<style scoped>\n",
       "    .dataframe tbody tr th:only-of-type {\n",
       "        vertical-align: middle;\n",
       "    }\n",
       "\n",
       "    .dataframe tbody tr th {\n",
       "        vertical-align: top;\n",
       "    }\n",
       "\n",
       "    .dataframe thead th {\n",
       "        text-align: right;\n",
       "    }\n",
       "</style>\n",
       "<table border=\"1\" class=\"dataframe\">\n",
       "  <thead>\n",
       "    <tr style=\"text-align: right;\">\n",
       "      <th></th>\n",
       "      <th>Account</th>\n",
       "      <th>Coin</th>\n",
       "      <th>Execution Price</th>\n",
       "      <th>Size Tokens</th>\n",
       "      <th>Size USD</th>\n",
       "      <th>Side</th>\n",
       "      <th>Timestamp IST</th>\n",
       "      <th>Start Position</th>\n",
       "      <th>Direction</th>\n",
       "      <th>Closed PnL</th>\n",
       "      <th>Transaction Hash</th>\n",
       "      <th>Order ID</th>\n",
       "      <th>Crossed</th>\n",
       "      <th>Fee</th>\n",
       "      <th>Trade ID</th>\n",
       "      <th>Timestamp</th>\n",
       "    </tr>\n",
       "  </thead>\n",
       "  <tbody>\n",
       "    <tr>\n",
       "      <th>0</th>\n",
       "      <td>0xae5eacaf9c6b9111fd53034a602c192a04e082ed</td>\n",
       "      <td>@107</td>\n",
       "      <td>7.9769</td>\n",
       "      <td>986.87</td>\n",
       "      <td>7872.16</td>\n",
       "      <td>BUY</td>\n",
       "      <td>02-12-2024 22:50</td>\n",
       "      <td>0.000000</td>\n",
       "      <td>Buy</td>\n",
       "      <td>0.0</td>\n",
       "      <td>0xec09451986a1874e3a980418412fcd0201f500c95bac...</td>\n",
       "      <td>52017706630</td>\n",
       "      <td>True</td>\n",
       "      <td>0.345404</td>\n",
       "      <td>8.950000e+14</td>\n",
       "      <td>1.730000e+12</td>\n",
       "    </tr>\n",
       "    <tr>\n",
       "      <th>1</th>\n",
       "      <td>0xae5eacaf9c6b9111fd53034a602c192a04e082ed</td>\n",
       "      <td>@107</td>\n",
       "      <td>7.9800</td>\n",
       "      <td>16.00</td>\n",
       "      <td>127.68</td>\n",
       "      <td>BUY</td>\n",
       "      <td>02-12-2024 22:50</td>\n",
       "      <td>986.524596</td>\n",
       "      <td>Buy</td>\n",
       "      <td>0.0</td>\n",
       "      <td>0xec09451986a1874e3a980418412fcd0201f500c95bac...</td>\n",
       "      <td>52017706630</td>\n",
       "      <td>True</td>\n",
       "      <td>0.005600</td>\n",
       "      <td>4.430000e+14</td>\n",
       "      <td>1.730000e+12</td>\n",
       "    </tr>\n",
       "    <tr>\n",
       "      <th>2</th>\n",
       "      <td>0xae5eacaf9c6b9111fd53034a602c192a04e082ed</td>\n",
       "      <td>@107</td>\n",
       "      <td>7.9855</td>\n",
       "      <td>144.09</td>\n",
       "      <td>1150.63</td>\n",
       "      <td>BUY</td>\n",
       "      <td>02-12-2024 22:50</td>\n",
       "      <td>1002.518996</td>\n",
       "      <td>Buy</td>\n",
       "      <td>0.0</td>\n",
       "      <td>0xec09451986a1874e3a980418412fcd0201f500c95bac...</td>\n",
       "      <td>52017706630</td>\n",
       "      <td>True</td>\n",
       "      <td>0.050431</td>\n",
       "      <td>6.600000e+14</td>\n",
       "      <td>1.730000e+12</td>\n",
       "    </tr>\n",
       "    <tr>\n",
       "      <th>3</th>\n",
       "      <td>0xae5eacaf9c6b9111fd53034a602c192a04e082ed</td>\n",
       "      <td>@107</td>\n",
       "      <td>7.9874</td>\n",
       "      <td>142.98</td>\n",
       "      <td>1142.04</td>\n",
       "      <td>BUY</td>\n",
       "      <td>02-12-2024 22:50</td>\n",
       "      <td>1146.558564</td>\n",
       "      <td>Buy</td>\n",
       "      <td>0.0</td>\n",
       "      <td>0xec09451986a1874e3a980418412fcd0201f500c95bac...</td>\n",
       "      <td>52017706630</td>\n",
       "      <td>True</td>\n",
       "      <td>0.050043</td>\n",
       "      <td>1.080000e+15</td>\n",
       "      <td>1.730000e+12</td>\n",
       "    </tr>\n",
       "    <tr>\n",
       "      <th>4</th>\n",
       "      <td>0xae5eacaf9c6b9111fd53034a602c192a04e082ed</td>\n",
       "      <td>@107</td>\n",
       "      <td>7.9894</td>\n",
       "      <td>8.73</td>\n",
       "      <td>69.75</td>\n",
       "      <td>BUY</td>\n",
       "      <td>02-12-2024 22:50</td>\n",
       "      <td>1289.488521</td>\n",
       "      <td>Buy</td>\n",
       "      <td>0.0</td>\n",
       "      <td>0xec09451986a1874e3a980418412fcd0201f500c95bac...</td>\n",
       "      <td>52017706630</td>\n",
       "      <td>True</td>\n",
       "      <td>0.003055</td>\n",
       "      <td>1.050000e+15</td>\n",
       "      <td>1.730000e+12</td>\n",
       "    </tr>\n",
       "  </tbody>\n",
       "</table>\n",
       "</div>"
      ],
      "text/plain": [
       "                                      Account  Coin  Execution Price  \\\n",
       "0  0xae5eacaf9c6b9111fd53034a602c192a04e082ed  @107           7.9769   \n",
       "1  0xae5eacaf9c6b9111fd53034a602c192a04e082ed  @107           7.9800   \n",
       "2  0xae5eacaf9c6b9111fd53034a602c192a04e082ed  @107           7.9855   \n",
       "3  0xae5eacaf9c6b9111fd53034a602c192a04e082ed  @107           7.9874   \n",
       "4  0xae5eacaf9c6b9111fd53034a602c192a04e082ed  @107           7.9894   \n",
       "\n",
       "   Size Tokens  Size USD Side     Timestamp IST  Start Position Direction  \\\n",
       "0       986.87   7872.16  BUY  02-12-2024 22:50        0.000000       Buy   \n",
       "1        16.00    127.68  BUY  02-12-2024 22:50      986.524596       Buy   \n",
       "2       144.09   1150.63  BUY  02-12-2024 22:50     1002.518996       Buy   \n",
       "3       142.98   1142.04  BUY  02-12-2024 22:50     1146.558564       Buy   \n",
       "4         8.73     69.75  BUY  02-12-2024 22:50     1289.488521       Buy   \n",
       "\n",
       "   Closed PnL                                   Transaction Hash     Order ID  \\\n",
       "0         0.0  0xec09451986a1874e3a980418412fcd0201f500c95bac...  52017706630   \n",
       "1         0.0  0xec09451986a1874e3a980418412fcd0201f500c95bac...  52017706630   \n",
       "2         0.0  0xec09451986a1874e3a980418412fcd0201f500c95bac...  52017706630   \n",
       "3         0.0  0xec09451986a1874e3a980418412fcd0201f500c95bac...  52017706630   \n",
       "4         0.0  0xec09451986a1874e3a980418412fcd0201f500c95bac...  52017706630   \n",
       "\n",
       "   Crossed       Fee      Trade ID     Timestamp  \n",
       "0     True  0.345404  8.950000e+14  1.730000e+12  \n",
       "1     True  0.005600  4.430000e+14  1.730000e+12  \n",
       "2     True  0.050431  6.600000e+14  1.730000e+12  \n",
       "3     True  0.050043  1.080000e+15  1.730000e+12  \n",
       "4     True  0.003055  1.050000e+15  1.730000e+12  "
      ]
     },
     "execution_count": 6,
     "metadata": {},
     "output_type": "execute_result"
    }
   ],
   "source": [
    "hisdata.head()"
   ]
  },
  {
   "cell_type": "code",
   "execution_count": 7,
   "id": "a7ca8167-249a-47f5-aa85-5f3f486c9df8",
   "metadata": {},
   "outputs": [
    {
     "data": {
      "text/html": [
       "<div>\n",
       "<style scoped>\n",
       "    .dataframe tbody tr th:only-of-type {\n",
       "        vertical-align: middle;\n",
       "    }\n",
       "\n",
       "    .dataframe tbody tr th {\n",
       "        vertical-align: top;\n",
       "    }\n",
       "\n",
       "    .dataframe thead th {\n",
       "        text-align: right;\n",
       "    }\n",
       "</style>\n",
       "<table border=\"1\" class=\"dataframe\">\n",
       "  <thead>\n",
       "    <tr style=\"text-align: right;\">\n",
       "      <th></th>\n",
       "      <th>Execution Price</th>\n",
       "      <th>Size Tokens</th>\n",
       "      <th>Size USD</th>\n",
       "      <th>Start Position</th>\n",
       "      <th>Closed PnL</th>\n",
       "      <th>Order ID</th>\n",
       "      <th>Fee</th>\n",
       "      <th>Trade ID</th>\n",
       "      <th>Timestamp</th>\n",
       "    </tr>\n",
       "  </thead>\n",
       "  <tbody>\n",
       "    <tr>\n",
       "      <th>count</th>\n",
       "      <td>211224.000000</td>\n",
       "      <td>2.112240e+05</td>\n",
       "      <td>2.112240e+05</td>\n",
       "      <td>2.112240e+05</td>\n",
       "      <td>211224.000000</td>\n",
       "      <td>2.112240e+05</td>\n",
       "      <td>211224.000000</td>\n",
       "      <td>2.112240e+05</td>\n",
       "      <td>2.112240e+05</td>\n",
       "    </tr>\n",
       "    <tr>\n",
       "      <th>mean</th>\n",
       "      <td>11414.723350</td>\n",
       "      <td>4.623365e+03</td>\n",
       "      <td>5.639451e+03</td>\n",
       "      <td>-2.994625e+04</td>\n",
       "      <td>48.749001</td>\n",
       "      <td>6.965388e+10</td>\n",
       "      <td>1.163967</td>\n",
       "      <td>5.628549e+14</td>\n",
       "      <td>1.737744e+12</td>\n",
       "    </tr>\n",
       "    <tr>\n",
       "      <th>std</th>\n",
       "      <td>29447.654868</td>\n",
       "      <td>1.042729e+05</td>\n",
       "      <td>3.657514e+04</td>\n",
       "      <td>6.738074e+05</td>\n",
       "      <td>919.164828</td>\n",
       "      <td>1.835753e+10</td>\n",
       "      <td>6.758854</td>\n",
       "      <td>3.257565e+14</td>\n",
       "      <td>8.689920e+09</td>\n",
       "    </tr>\n",
       "    <tr>\n",
       "      <th>min</th>\n",
       "      <td>0.000005</td>\n",
       "      <td>8.740000e-07</td>\n",
       "      <td>0.000000e+00</td>\n",
       "      <td>-1.433463e+07</td>\n",
       "      <td>-117990.104100</td>\n",
       "      <td>1.732711e+08</td>\n",
       "      <td>-1.175712</td>\n",
       "      <td>0.000000e+00</td>\n",
       "      <td>1.680000e+12</td>\n",
       "    </tr>\n",
       "    <tr>\n",
       "      <th>25%</th>\n",
       "      <td>4.854700</td>\n",
       "      <td>2.940000e+00</td>\n",
       "      <td>1.937900e+02</td>\n",
       "      <td>-3.762311e+02</td>\n",
       "      <td>0.000000</td>\n",
       "      <td>5.983853e+10</td>\n",
       "      <td>0.016121</td>\n",
       "      <td>2.810000e+14</td>\n",
       "      <td>1.740000e+12</td>\n",
       "    </tr>\n",
       "    <tr>\n",
       "      <th>50%</th>\n",
       "      <td>18.280000</td>\n",
       "      <td>3.200000e+01</td>\n",
       "      <td>5.970450e+02</td>\n",
       "      <td>8.472793e+01</td>\n",
       "      <td>0.000000</td>\n",
       "      <td>7.442939e+10</td>\n",
       "      <td>0.089578</td>\n",
       "      <td>5.620000e+14</td>\n",
       "      <td>1.740000e+12</td>\n",
       "    </tr>\n",
       "    <tr>\n",
       "      <th>75%</th>\n",
       "      <td>101.580000</td>\n",
       "      <td>1.879025e+02</td>\n",
       "      <td>2.058960e+03</td>\n",
       "      <td>9.337278e+03</td>\n",
       "      <td>5.792797</td>\n",
       "      <td>8.335543e+10</td>\n",
       "      <td>0.393811</td>\n",
       "      <td>8.460000e+14</td>\n",
       "      <td>1.740000e+12</td>\n",
       "    </tr>\n",
       "    <tr>\n",
       "      <th>max</th>\n",
       "      <td>109004.000000</td>\n",
       "      <td>1.582244e+07</td>\n",
       "      <td>3.921431e+06</td>\n",
       "      <td>3.050948e+07</td>\n",
       "      <td>135329.090100</td>\n",
       "      <td>9.014923e+10</td>\n",
       "      <td>837.471593</td>\n",
       "      <td>1.130000e+15</td>\n",
       "      <td>1.750000e+12</td>\n",
       "    </tr>\n",
       "  </tbody>\n",
       "</table>\n",
       "</div>"
      ],
      "text/plain": [
       "       Execution Price   Size Tokens      Size USD  Start Position  \\\n",
       "count    211224.000000  2.112240e+05  2.112240e+05    2.112240e+05   \n",
       "mean      11414.723350  4.623365e+03  5.639451e+03   -2.994625e+04   \n",
       "std       29447.654868  1.042729e+05  3.657514e+04    6.738074e+05   \n",
       "min           0.000005  8.740000e-07  0.000000e+00   -1.433463e+07   \n",
       "25%           4.854700  2.940000e+00  1.937900e+02   -3.762311e+02   \n",
       "50%          18.280000  3.200000e+01  5.970450e+02    8.472793e+01   \n",
       "75%         101.580000  1.879025e+02  2.058960e+03    9.337278e+03   \n",
       "max      109004.000000  1.582244e+07  3.921431e+06    3.050948e+07   \n",
       "\n",
       "          Closed PnL      Order ID            Fee      Trade ID     Timestamp  \n",
       "count  211224.000000  2.112240e+05  211224.000000  2.112240e+05  2.112240e+05  \n",
       "mean       48.749001  6.965388e+10       1.163967  5.628549e+14  1.737744e+12  \n",
       "std       919.164828  1.835753e+10       6.758854  3.257565e+14  8.689920e+09  \n",
       "min   -117990.104100  1.732711e+08      -1.175712  0.000000e+00  1.680000e+12  \n",
       "25%         0.000000  5.983853e+10       0.016121  2.810000e+14  1.740000e+12  \n",
       "50%         0.000000  7.442939e+10       0.089578  5.620000e+14  1.740000e+12  \n",
       "75%         5.792797  8.335543e+10       0.393811  8.460000e+14  1.740000e+12  \n",
       "max    135329.090100  9.014923e+10     837.471593  1.130000e+15  1.750000e+12  "
      ]
     },
     "execution_count": 7,
     "metadata": {},
     "output_type": "execute_result"
    }
   ],
   "source": [
    "hisdata.describe()"
   ]
  },
  {
   "cell_type": "code",
   "execution_count": 8,
   "id": "888e5554-a0c6-4e02-90af-ed61b99edeb1",
   "metadata": {},
   "outputs": [
    {
     "name": "stdout",
     "output_type": "stream",
     "text": [
      "<class 'pandas.core.frame.DataFrame'>\n",
      "RangeIndex: 2644 entries, 0 to 2643\n",
      "Data columns (total 4 columns):\n",
      " #   Column          Non-Null Count  Dtype \n",
      "---  ------          --------------  ----- \n",
      " 0   timestamp       2644 non-null   int64 \n",
      " 1   value           2644 non-null   int64 \n",
      " 2   classification  2644 non-null   object\n",
      " 3   date            2644 non-null   object\n",
      "dtypes: int64(2), object(2)\n",
      "memory usage: 82.8+ KB\n"
     ]
    }
   ],
   "source": [
    "fgdata.info()  # inspect the Sentiment data"
   ]
  },
  {
   "cell_type": "code",
   "execution_count": 9,
   "id": "34f6e7d8-32c0-4901-816b-751937bcb6e9",
   "metadata": {},
   "outputs": [
    {
     "data": {
      "text/html": [
       "<div>\n",
       "<style scoped>\n",
       "    .dataframe tbody tr th:only-of-type {\n",
       "        vertical-align: middle;\n",
       "    }\n",
       "\n",
       "    .dataframe tbody tr th {\n",
       "        vertical-align: top;\n",
       "    }\n",
       "\n",
       "    .dataframe thead th {\n",
       "        text-align: right;\n",
       "    }\n",
       "</style>\n",
       "<table border=\"1\" class=\"dataframe\">\n",
       "  <thead>\n",
       "    <tr style=\"text-align: right;\">\n",
       "      <th></th>\n",
       "      <th>timestamp</th>\n",
       "      <th>value</th>\n",
       "      <th>classification</th>\n",
       "      <th>date</th>\n",
       "    </tr>\n",
       "  </thead>\n",
       "  <tbody>\n",
       "    <tr>\n",
       "      <th>0</th>\n",
       "      <td>1517463000</td>\n",
       "      <td>30</td>\n",
       "      <td>Fear</td>\n",
       "      <td>2018-02-01</td>\n",
       "    </tr>\n",
       "    <tr>\n",
       "      <th>1</th>\n",
       "      <td>1517549400</td>\n",
       "      <td>15</td>\n",
       "      <td>Extreme Fear</td>\n",
       "      <td>2018-02-02</td>\n",
       "    </tr>\n",
       "    <tr>\n",
       "      <th>2</th>\n",
       "      <td>1517635800</td>\n",
       "      <td>40</td>\n",
       "      <td>Fear</td>\n",
       "      <td>2018-02-03</td>\n",
       "    </tr>\n",
       "    <tr>\n",
       "      <th>3</th>\n",
       "      <td>1517722200</td>\n",
       "      <td>24</td>\n",
       "      <td>Extreme Fear</td>\n",
       "      <td>2018-02-04</td>\n",
       "    </tr>\n",
       "    <tr>\n",
       "      <th>4</th>\n",
       "      <td>1517808600</td>\n",
       "      <td>11</td>\n",
       "      <td>Extreme Fear</td>\n",
       "      <td>2018-02-05</td>\n",
       "    </tr>\n",
       "  </tbody>\n",
       "</table>\n",
       "</div>"
      ],
      "text/plain": [
       "    timestamp  value classification        date\n",
       "0  1517463000     30           Fear  2018-02-01\n",
       "1  1517549400     15   Extreme Fear  2018-02-02\n",
       "2  1517635800     40           Fear  2018-02-03\n",
       "3  1517722200     24   Extreme Fear  2018-02-04\n",
       "4  1517808600     11   Extreme Fear  2018-02-05"
      ]
     },
     "execution_count": 9,
     "metadata": {},
     "output_type": "execute_result"
    }
   ],
   "source": [
    "fgdata.head()"
   ]
  },
  {
   "cell_type": "code",
   "execution_count": 10,
   "id": "ed45ac25-11c7-46ec-8f1b-561309c57898",
   "metadata": {},
   "outputs": [
    {
     "data": {
      "text/html": [
       "<div>\n",
       "<style scoped>\n",
       "    .dataframe tbody tr th:only-of-type {\n",
       "        vertical-align: middle;\n",
       "    }\n",
       "\n",
       "    .dataframe tbody tr th {\n",
       "        vertical-align: top;\n",
       "    }\n",
       "\n",
       "    .dataframe thead th {\n",
       "        text-align: right;\n",
       "    }\n",
       "</style>\n",
       "<table border=\"1\" class=\"dataframe\">\n",
       "  <thead>\n",
       "    <tr style=\"text-align: right;\">\n",
       "      <th></th>\n",
       "      <th>timestamp</th>\n",
       "      <th>value</th>\n",
       "    </tr>\n",
       "  </thead>\n",
       "  <tbody>\n",
       "    <tr>\n",
       "      <th>count</th>\n",
       "      <td>2.644000e+03</td>\n",
       "      <td>2644.000000</td>\n",
       "    </tr>\n",
       "    <tr>\n",
       "      <th>mean</th>\n",
       "      <td>1.631899e+09</td>\n",
       "      <td>46.981089</td>\n",
       "    </tr>\n",
       "    <tr>\n",
       "      <th>std</th>\n",
       "      <td>6.597967e+07</td>\n",
       "      <td>21.827680</td>\n",
       "    </tr>\n",
       "    <tr>\n",
       "      <th>min</th>\n",
       "      <td>1.517463e+09</td>\n",
       "      <td>5.000000</td>\n",
       "    </tr>\n",
       "    <tr>\n",
       "      <th>25%</th>\n",
       "      <td>1.574811e+09</td>\n",
       "      <td>28.000000</td>\n",
       "    </tr>\n",
       "    <tr>\n",
       "      <th>50%</th>\n",
       "      <td>1.631900e+09</td>\n",
       "      <td>46.000000</td>\n",
       "    </tr>\n",
       "    <tr>\n",
       "      <th>75%</th>\n",
       "      <td>1.688989e+09</td>\n",
       "      <td>66.000000</td>\n",
       "    </tr>\n",
       "    <tr>\n",
       "      <th>max</th>\n",
       "      <td>1.746164e+09</td>\n",
       "      <td>95.000000</td>\n",
       "    </tr>\n",
       "  </tbody>\n",
       "</table>\n",
       "</div>"
      ],
      "text/plain": [
       "          timestamp        value\n",
       "count  2.644000e+03  2644.000000\n",
       "mean   1.631899e+09    46.981089\n",
       "std    6.597967e+07    21.827680\n",
       "min    1.517463e+09     5.000000\n",
       "25%    1.574811e+09    28.000000\n",
       "50%    1.631900e+09    46.000000\n",
       "75%    1.688989e+09    66.000000\n",
       "max    1.746164e+09    95.000000"
      ]
     },
     "execution_count": 10,
     "metadata": {},
     "output_type": "execute_result"
    }
   ],
   "source": [
    "fgdata.describe()"
   ]
  },
  {
   "cell_type": "code",
   "execution_count": 11,
   "id": "90a5d181-10ac-4a36-8b92-4df739524771",
   "metadata": {},
   "outputs": [
    {
     "data": {
      "text/plain": [
       "Account             0\n",
       "Coin                0\n",
       "Execution Price     0\n",
       "Size Tokens         0\n",
       "Size USD            0\n",
       "Side                0\n",
       "Timestamp IST       0\n",
       "Start Position      0\n",
       "Direction           0\n",
       "Closed PnL          0\n",
       "Transaction Hash    0\n",
       "Order ID            0\n",
       "Crossed             0\n",
       "Fee                 0\n",
       "Trade ID            0\n",
       "Timestamp           0\n",
       "dtype: int64"
      ]
     },
     "execution_count": 11,
     "metadata": {},
     "output_type": "execute_result"
    }
   ],
   "source": [
    "# data missing values\n",
    "hisdata.isnull().sum()"
   ]
  },
  {
   "cell_type": "code",
   "execution_count": 12,
   "id": "28d838d4-515f-4e64-964e-7d1be86605e6",
   "metadata": {},
   "outputs": [
    {
     "data": {
      "text/plain": [
       "timestamp         0\n",
       "value             0\n",
       "classification    0\n",
       "date              0\n",
       "dtype: int64"
      ]
     },
     "execution_count": 12,
     "metadata": {},
     "output_type": "execute_result"
    }
   ],
   "source": [
    "fgdata.isnull().sum()"
   ]
  },
  {
   "cell_type": "code",
   "execution_count": 13,
   "id": "08df1cb7-76d7-40bf-85ee-b7ec4975ab3e",
   "metadata": {},
   "outputs": [
    {
     "data": {
      "text/plain": [
       "classification\n",
       "Fear             781\n",
       "Greed            633\n",
       "Extreme Fear     508\n",
       "Neutral          396\n",
       "Extreme Greed    326\n",
       "Name: count, dtype: int64"
      ]
     },
     "execution_count": 13,
     "metadata": {},
     "output_type": "execute_result"
    }
   ],
   "source": [
    "fgdata['classification'].value_counts() #values in classification"
   ]
  },
  {
   "cell_type": "code",
   "execution_count": 14,
   "id": "76450bd5-da67-4667-aeb5-e85af1e040d1",
   "metadata": {},
   "outputs": [
    {
     "name": "stdout",
     "output_type": "stream",
     "text": [
      "<class 'pandas.core.frame.DataFrame'>\n",
      "RangeIndex: 2644 entries, 0 to 2643\n",
      "Data columns (total 4 columns):\n",
      " #   Column          Non-Null Count  Dtype         \n",
      "---  ------          --------------  -----         \n",
      " 0   timestamp       2644 non-null   int64         \n",
      " 1   value           2644 non-null   int64         \n",
      " 2   classification  2644 non-null   object        \n",
      " 3   date            2644 non-null   datetime64[ns]\n",
      "dtypes: datetime64[ns](1), int64(2), object(1)\n",
      "memory usage: 82.8+ KB\n",
      "None\n"
     ]
    }
   ],
   "source": [
    "fgdata['date'] = pd.to_datetime(fgdata['date']) #convert the date to proper datetime format \n",
    "print(fgdata.info()) "
   ]
  },
  {
   "cell_type": "code",
   "execution_count": 15,
   "id": "5e7f7735-56f0-40a6-aceb-bfe93ceed9bd",
   "metadata": {},
   "outputs": [
    {
     "name": "stdout",
     "output_type": "stream",
     "text": [
      "    timestamp  value       date  sentiment_score\n",
      "0  1517463000     30 2018-02-01                1\n",
      "1  1517549400     15 2018-02-02                0\n",
      "2  1517635800     40 2018-02-03                1\n",
      "3  1517722200     24 2018-02-04                0\n",
      "4  1517808600     11 2018-02-05                0\n"
     ]
    }
   ],
   "source": [
    "sentiment_mapping = {'Extreme Fear': 0, 'Fear': 1, 'Neutral': 2, 'Greed': 3, 'Extreme Greed': 4}\n",
    "fgdata['sentiment_score'] = fgdata['classification'].map(sentiment_mapping) #converting categorical data to numerical\n",
    "fgdata.drop('classification', axis=1, inplace=True)\n",
    "print(fgdata.head())"
   ]
  },
  {
   "cell_type": "code",
   "execution_count": 16,
   "id": "eede0e88-3feb-4591-a1a4-b65d565ddd6a",
   "metadata": {},
   "outputs": [
    {
     "name": "stdout",
     "output_type": "stream",
     "text": [
      "             timestamp  value  sentiment_score\n",
      "date                                          \n",
      "2018-02-01  1517463000     30                1\n",
      "2018-02-02  1517549400     15                0\n",
      "2018-02-03  1517635800     40                1\n",
      "2018-02-04  1517722200     24                0\n",
      "2018-02-05  1517808600     11                0\n"
     ]
    }
   ],
   "source": [
    "fgdata.set_index('date', inplace=True) #setting date to index \n",
    "print(fgdata.head())"
   ]
  },
  {
   "cell_type": "code",
   "execution_count": 17,
   "id": "9e5533b6-8ebb-457e-b234-2d9570558be0",
   "metadata": {},
   "outputs": [
    {
     "data": {
      "text/plain": [
       "timestamp          0\n",
       "value              0\n",
       "sentiment_score    0\n",
       "dtype: int64"
      ]
     },
     "execution_count": 17,
     "metadata": {},
     "output_type": "execute_result"
    }
   ],
   "source": [
    "fgdata.isnull().sum()"
   ]
  },
  {
   "cell_type": "code",
   "execution_count": 18,
   "id": "f276d2e2-e5a2-436d-b172-5b708cb4f7e7",
   "metadata": {},
   "outputs": [
    {
     "name": "stdout",
     "output_type": "stream",
     "text": [
      "<class 'pandas.core.frame.DataFrame'>\n",
      "RangeIndex: 211224 entries, 0 to 211223\n",
      "Data columns (total 16 columns):\n",
      " #   Column            Non-Null Count   Dtype         \n",
      "---  ------            --------------   -----         \n",
      " 0   Account           211224 non-null  object        \n",
      " 1   Coin              211224 non-null  object        \n",
      " 2   Execution Price   211224 non-null  float64       \n",
      " 3   Size Tokens       211224 non-null  float64       \n",
      " 4   Size USD          211224 non-null  float64       \n",
      " 5   Side              211224 non-null  object        \n",
      " 6   Start Position    211224 non-null  float64       \n",
      " 7   Direction         211224 non-null  object        \n",
      " 8   Closed PnL        211224 non-null  float64       \n",
      " 9   Transaction Hash  211224 non-null  object        \n",
      " 10  Order ID          211224 non-null  int64         \n",
      " 11  Crossed           211224 non-null  bool          \n",
      " 12  Fee               211224 non-null  float64       \n",
      " 13  Trade ID          211224 non-null  float64       \n",
      " 14  Timestamp         211224 non-null  float64       \n",
      " 15  time              211224 non-null  datetime64[ns]\n",
      "dtypes: bool(1), datetime64[ns](1), float64(8), int64(1), object(5)\n",
      "memory usage: 24.4+ MB\n"
     ]
    }
   ],
   "source": [
    "hisdata['time'] = pd.to_datetime(hisdata['Timestamp IST'], format='%d-%m-%Y %H:%M') # The 'Timestamp IST' column has  the date and time so let's convert it to datetime objects.\n",
    "hisdata.drop('Timestamp IST', axis=1, inplace=True) # Remove the original timestamp column\n",
    "hisdata.head()\n",
    "hisdata.info()"
   ]
  },
  {
   "cell_type": "code",
   "execution_count": 19,
   "id": "a49801fc-d681-4021-80f9-7ce18fa2713b",
   "metadata": {},
   "outputs": [
    {
     "name": "stdout",
     "output_type": "stream",
     "text": [
      "<class 'pandas.core.frame.DataFrame'>\n",
      "RangeIndex: 211224 entries, 0 to 211223\n",
      "Data columns (total 16 columns):\n",
      " #   Column            Non-Null Count   Dtype         \n",
      "---  ------            --------------   -----         \n",
      " 0   Account           211224 non-null  object        \n",
      " 1   Coin              211224 non-null  object        \n",
      " 2   Execution Price   211224 non-null  float64       \n",
      " 3   Size Tokens       211224 non-null  float64       \n",
      " 4   Size USD          211224 non-null  float64       \n",
      " 5   Side              211224 non-null  object        \n",
      " 6   Start Position    211224 non-null  float64       \n",
      " 7   Direction         211224 non-null  object        \n",
      " 8   Closed PnL        211224 non-null  float64       \n",
      " 9   Transaction Hash  211224 non-null  object        \n",
      " 10  Order ID          211224 non-null  int64         \n",
      " 11  Crossed           211224 non-null  bool          \n",
      " 12  Fee               211224 non-null  float64       \n",
      " 13  Trade ID          211224 non-null  float64       \n",
      " 14  Timestamp         211224 non-null  float64       \n",
      " 15  time              211224 non-null  datetime64[ns]\n",
      "dtypes: bool(1), datetime64[ns](1), float64(8), int64(1), object(5)\n",
      "memory usage: 24.4+ MB\n",
      "None\n"
     ]
    }
   ],
   "source": [
    "cols_to_numeric = ['Execution Price','Size Tokens', 'Size USD','Start Position', 'Closed PnL', 'Order ID', 'Fee', 'Trade ID', 'Timestamp'] #Datatype conversion of numercial columns\n",
    "for col in cols_to_numeric:\n",
    "    hisdata[col] = pd.to_numeric(hisdata[col], errors='coerce') \n",
    "print(hisdata.info())"
   ]
  },
  {
   "cell_type": "code",
   "execution_count": 20,
   "id": "297042c5-62f2-4024-beca-bab4607763cd",
   "metadata": {},
   "outputs": [
    {
     "data": {
      "text/plain": [
       "Account             0\n",
       "Coin                0\n",
       "Execution Price     0\n",
       "Size Tokens         0\n",
       "Size USD            0\n",
       "Side                0\n",
       "Start Position      0\n",
       "Direction           0\n",
       "Closed PnL          0\n",
       "Transaction Hash    0\n",
       "Order ID            0\n",
       "Crossed             0\n",
       "Fee                 0\n",
       "Trade ID            0\n",
       "Timestamp           0\n",
       "time                0\n",
       "dtype: int64"
      ]
     },
     "execution_count": 20,
     "metadata": {},
     "output_type": "execute_result"
    }
   ],
   "source": [
    "hisdata.isnull().sum()"
   ]
  },
  {
   "cell_type": "markdown",
   "id": "79d2978c-b39d-4498-8c7f-f96243153ed2",
   "metadata": {},
   "source": [
    "##### The sentiment data has 'date' column, and the historical data has a 'time' column with timestamps. To merge them, we'll need to extract the date part from the 'time' column in historical data"
   ]
  },
  {
   "cell_type": "code",
   "execution_count": 22,
   "id": "66bd99a5-483b-404b-a2a4-424ff7a6cf6f",
   "metadata": {},
   "outputs": [
    {
     "name": "stdout",
     "output_type": "stream",
     "text": [
      "                 time trade_date\n",
      "0 2024-12-02 22:50:00 2024-12-02\n",
      "1 2024-12-02 22:50:00 2024-12-02\n",
      "2 2024-12-02 22:50:00 2024-12-02\n",
      "3 2024-12-02 22:50:00 2024-12-02\n",
      "4 2024-12-02 22:50:00 2024-12-02\n"
     ]
    }
   ],
   "source": [
    "hisdata['trade_date'] = hisdata['time'].dt.date\n",
    "hisdata['trade_date'] = pd.to_datetime(hisdata['trade_date']) \n",
    "print(hisdata[['time', 'trade_date']].head())"
   ]
  },
  {
   "cell_type": "code",
   "execution_count": 23,
   "id": "c72b996d-d2c4-45f1-985d-ae7afdfbe213",
   "metadata": {},
   "outputs": [
    {
     "name": "stdout",
     "output_type": "stream",
     "text": [
      "                                      Account  Coin  Execution Price  \\\n",
      "0  0xae5eacaf9c6b9111fd53034a602c192a04e082ed  @107           7.9769   \n",
      "1  0xae5eacaf9c6b9111fd53034a602c192a04e082ed  @107           7.9800   \n",
      "2  0xae5eacaf9c6b9111fd53034a602c192a04e082ed  @107           7.9855   \n",
      "3  0xae5eacaf9c6b9111fd53034a602c192a04e082ed  @107           7.9874   \n",
      "4  0xae5eacaf9c6b9111fd53034a602c192a04e082ed  @107           7.9894   \n",
      "\n",
      "   Size Tokens  Size USD Side  Start Position Direction  Closed PnL  \\\n",
      "0       986.87   7872.16  BUY        0.000000       Buy         0.0   \n",
      "1        16.00    127.68  BUY      986.524596       Buy         0.0   \n",
      "2       144.09   1150.63  BUY     1002.518996       Buy         0.0   \n",
      "3       142.98   1142.04  BUY     1146.558564       Buy         0.0   \n",
      "4         8.73     69.75  BUY     1289.488521       Buy         0.0   \n",
      "\n",
      "                                    Transaction Hash     Order ID  Crossed  \\\n",
      "0  0xec09451986a1874e3a980418412fcd0201f500c95bac...  52017706630     True   \n",
      "1  0xec09451986a1874e3a980418412fcd0201f500c95bac...  52017706630     True   \n",
      "2  0xec09451986a1874e3a980418412fcd0201f500c95bac...  52017706630     True   \n",
      "3  0xec09451986a1874e3a980418412fcd0201f500c95bac...  52017706630     True   \n",
      "4  0xec09451986a1874e3a980418412fcd0201f500c95bac...  52017706630     True   \n",
      "\n",
      "        Fee      Trade ID     Timestamp                time trade_date  \\\n",
      "0  0.345404  8.950000e+14  1.730000e+12 2024-12-02 22:50:00 2024-12-02   \n",
      "1  0.005600  4.430000e+14  1.730000e+12 2024-12-02 22:50:00 2024-12-02   \n",
      "2  0.050431  6.600000e+14  1.730000e+12 2024-12-02 22:50:00 2024-12-02   \n",
      "3  0.050043  1.080000e+15  1.730000e+12 2024-12-02 22:50:00 2024-12-02   \n",
      "4  0.003055  1.050000e+15  1.730000e+12 2024-12-02 22:50:00 2024-12-02   \n",
      "\n",
      "   sentiment_score  \n",
      "0              4.0  \n",
      "1              4.0  \n",
      "2              4.0  \n",
      "3              4.0  \n",
      "4              4.0  \n",
      "<class 'pandas.core.frame.DataFrame'>\n",
      "RangeIndex: 211224 entries, 0 to 211223\n",
      "Data columns (total 18 columns):\n",
      " #   Column            Non-Null Count   Dtype         \n",
      "---  ------            --------------   -----         \n",
      " 0   Account           211224 non-null  object        \n",
      " 1   Coin              211224 non-null  object        \n",
      " 2   Execution Price   211224 non-null  float64       \n",
      " 3   Size Tokens       211224 non-null  float64       \n",
      " 4   Size USD          211224 non-null  float64       \n",
      " 5   Side              211224 non-null  object        \n",
      " 6   Start Position    211224 non-null  float64       \n",
      " 7   Direction         211224 non-null  object        \n",
      " 8   Closed PnL        211224 non-null  float64       \n",
      " 9   Transaction Hash  211224 non-null  object        \n",
      " 10  Order ID          211224 non-null  int64         \n",
      " 11  Crossed           211224 non-null  bool          \n",
      " 12  Fee               211224 non-null  float64       \n",
      " 13  Trade ID          211224 non-null  float64       \n",
      " 14  Timestamp         211224 non-null  float64       \n",
      " 15  time              211224 non-null  datetime64[ns]\n",
      " 16  trade_date        211224 non-null  datetime64[ns]\n",
      " 17  sentiment_score   211218 non-null  float64       \n",
      "dtypes: bool(1), datetime64[ns](2), float64(9), int64(1), object(5)\n",
      "memory usage: 27.6+ MB\n",
      "None\n"
     ]
    }
   ],
   "source": [
    "merged_df = pd.merge(hisdata, fgdata['sentiment_score'], left_on='trade_date', right_index=True, how='left')\n",
    "print(merged_df.head())\n",
    "print(merged_df.info())"
   ]
  },
  {
   "cell_type": "code",
   "execution_count": 24,
   "id": "1f2c15dd-4e17-4f00-ad34-4e0857a95dca",
   "metadata": {},
   "outputs": [],
   "source": [
    "#some values  in sentimental score are missing, mwe should either fillna() or drop rows since numbers are less"
   ]
  },
  {
   "cell_type": "code",
   "execution_count": 25,
   "id": "fe0a2184-026b-4214-b609-321b29eb474e",
   "metadata": {},
   "outputs": [
    {
     "name": "stdout",
     "output_type": "stream",
     "text": [
      "\n",
      "Average PnL by Sentiment:\n",
      "sentiment_score\n",
      "0.0    34.537862\n",
      "1.0    54.290400\n",
      "2.0    34.307718\n",
      "3.0    42.743559\n",
      "4.0    67.892861\n",
      "Name: Closed PnL, dtype: float64\n"
     ]
    }
   ],
   "source": [
    "print(\"\\nAverage PnL by Sentiment:\") # Average PnL by Sentiment\n",
    "print(merged_df.groupby('sentiment_score')['Closed PnL'].mean())"
   ]
  },
  {
   "cell_type": "markdown",
   "id": "793dc4e3-e085-4aea-84d4-b804aa7116ad",
   "metadata": {},
   "source": [
    "The average 'Closed PnL' appears to be higher during periods of higher sentiment (Greed and Extreme Greed) compared to periods of Fear or Neutral sentiment. The highest average PnL is observed during Extreme Greed (sentiment score 4.0), and the lowest is during Neutral sentiment (score 2.0), although Fear (score 0.0) is quite close to Neutral. Win Rate by Sentiment:"
   ]
  },
  {
   "cell_type": "code",
   "execution_count": 27,
   "id": "d3c4c40f-a65d-496c-9628-829523a749d8",
   "metadata": {},
   "outputs": [
    {
     "name": "stdout",
     "output_type": "stream",
     "text": [
      "\n",
      "Win Rate by Sentiment:\n",
      "   sentiment_score  profitable_count  total_count  win_rate\n",
      "0              0.0              7931        21400  0.370607\n",
      "1              1.0             26019        61837  0.420768\n",
      "2              2.0             14961        37686  0.396991\n",
      "3              3.0             19358        50303  0.384828\n",
      "4              4.0             18594        39992  0.464943\n"
     ]
    }
   ],
   "source": [
    "print(\"\\nWin Rate by Sentiment:\")  # Win Rate by Sentiment\n",
    "profitable_trades = merged_df[merged_df['Closed PnL'] > 0].groupby('sentiment_score').size().reset_index(name='profitable_count')\n",
    "total_trades = merged_df.groupby('sentiment_score').size().reset_index(name='total_count')\n",
    "win_rate_by_sentiment = pd.merge(profitable_trades, total_trades, on='sentiment_score')\n",
    "win_rate_by_sentiment['win_rate'] = win_rate_by_sentiment['profitable_count'] / win_rate_by_sentiment['total_count']\n",
    "print(win_rate_by_sentiment)\n"
   ]
  },
  {
   "cell_type": "markdown",
   "id": "912b540b-970a-4037-a34e-addc0db19491",
   "metadata": {},
   "source": [
    "The win rate (percentage of profitable trades) also seems to be generally higher during periods of higher sentiment. The highest win rate is observed during Extreme Greed (sentiment score 4.0), at approximately 46.5%. The lowest win rate is during Extreme Fear (sentiment score 0.0), at around 37.1%. Box Plot (which you should be seeing now"
   ]
  },
  {
   "cell_type": "code",
   "execution_count": 29,
   "id": "024b02f7-e83f-40ed-a05f-11ab43234692",
   "metadata": {},
   "outputs": [
    {
     "name": "stdout",
     "output_type": "stream",
     "text": [
      "\n",
      "Distribution of PnL by Sentiment (Box Plots):\n"
     ]
    },
    {
     "data": {
      "image/png": "[encoded data removed]",
      "text/plain": [
       "<Figure size 640x480 with 1 Axes>"
      ]
     },
     "metadata": {},
     "output_type": "display_data"
    }
   ],
   "source": [
    "print(\"\\nDistribution of PnL by Sentiment (Box Plots):\") # Distribution of PnL by Sentiment using Boxplots\n",
    "import matplotlib.pyplot as plt\n",
    "import seaborn as sns\n",
    "sns.boxplot(x='sentiment_score', y='Closed PnL', data=merged_df)\n",
    "plt.title('Distribution of PnL by Sentiment')\n",
    "plt.xlabel('Sentiment Score (0: Extreme Fear, 4: Extreme Greed)')\n",
    "plt.ylabel('Closed PnL')\n",
    "plt.show()"
   ]
  },
  {
   "cell_type": "markdown",
   "id": "540668a4-84d7-463e-b147-f7297680c054",
   "metadata": {},
   "source": [
    "The box plot will visually show the distribution of 'Closed PnL' for each sentiment category. You'll likely observe differences in the median PnL, the spread (interquartile range), and the presence of outliers across the sentiment scores. This can give you a better understanding of the risk and reward profiles associated with trading during different sentiment regime"
   ]
  },
  {
   "cell_type": "markdown",
   "id": "42c26f0c-e345-4c9e-aedd-43abd3e3e6e4",
   "metadata": {},
   "source": [
    "Trading Strategies: These findings could suggest anything about the effectiveness of different trading strategies under varying sentiment, For example, are certain types of trades (e.g., buying vs. selling) more profitable in specific sentiment conditions\n",
    "\n",
    "Here's how we can investigate this:\n",
    "\n",
    "1. Group by Sentiment and Trade Side:\n",
    "\n",
    "We'll group the merged_df by both sentiment_score and the Side of the trade.\n",
    "\n",
    "2. Analyze Profitability Metrics:\n",
    "\n",
    "For each combination of sentiment and trade side, we can calculate:\n",
    "\n",
    "Average PnL: To see if buying or selling is more profitable under different sentiment.\n",
    "Win Rate: To see if the success rate of buying or selling differs with sentiment."
   ]
  },
  {
   "cell_type": "code",
   "execution_count": 34,
   "id": "8079d8dd-7697-4ba2-a797-b433c23a4489",
   "metadata": {},
   "outputs": [
    {
     "name": "stdout",
     "output_type": "stream",
     "text": [
      "\n",
      "Average PnL by Sentiment and Trade Side:\n",
      "Side                   BUY        SELL\n",
      "sentiment_score                       \n",
      "0.0              34.114627   34.980106\n",
      "1.0              63.927104   45.049641\n",
      "2.0              29.227429   39.456408\n",
      "3.0              25.002302   59.691091\n",
      "4.0              10.498927  114.584643\n",
      "\n",
      "Win Rate by Sentiment and Trade Side (%):\n",
      "Side                   BUY       SELL\n",
      "sentiment_score                      \n",
      "0.0              20.164609  54.715719\n",
      "1.0              26.299967  57.205309\n",
      "2.0              24.002320  55.607202\n",
      "3.0              31.807454  44.859486\n",
      "4.0              31.142698  58.983312\n"
     ]
    },
    {
     "data": {
      "image/png": "[encoded data removed]",
      "text/plain": [
       "<Figure size 640x480 with 1 Axes>"
      ]
     },
     "metadata": {},
     "output_type": "display_data"
    },
    {
     "data": {
      "image/png": "[encoded data removed]",
      "text/plain": [
       "<Figure size 640x480 with 1 Axes>"
      ]
     },
     "metadata": {},
     "output_type": "display_data"
    }
   ],
   "source": [
    "# Average PnL by Sentiment and Trade Side\n",
    "average_pnl_by_sentiment_side = merged_df.groupby(['sentiment_score', 'Side'])['Closed PnL'].mean().unstack()\n",
    "print(\"\\nAverage PnL by Sentiment and Trade Side:\")\n",
    "print(average_pnl_by_sentiment_side)\n",
    "\n",
    "# Win Rate by Sentiment and Trade Side\n",
    "profitable_trades_side = merged_df[merged_df['Closed PnL'] > 0].groupby(['sentiment_score', 'Side']).size().unstack(fill_value=0)\n",
    "total_trades_side = merged_df.groupby(['sentiment_score', 'Side']).size().unstack(fill_value=0)\n",
    "\n",
    "win_rate_by_sentiment_side = (profitable_trades_side / total_trades_side) * 100\n",
    "print(\"\\nWin Rate by Sentiment and Trade Side (%):\")\n",
    "print(win_rate_by_sentiment_side)\n",
    "\n",
    "# Visualize Average PnL by Sentiment and Side\n",
    "import matplotlib.pyplot as plt\n",
    "import seaborn as sns\n",
    "\n",
    "average_pnl_by_sentiment_side.plot(kind='bar', stacked=False)\n",
    "plt.title('Average PnL by Sentiment and Trade Side')\n",
    "plt.xlabel('Sentiment Score')\n",
    "plt.ylabel('Average Closed PnL')\n",
    "plt.xticks(rotation=0)\n",
    "plt.legend(title='Trade Side')\n",
    "plt.show()\n",
    "\n",
    "# Visualize Win Rate by Sentiment and Side\n",
    "win_rate_by_sentiment_side.plot(kind='bar', stacked=False)\n",
    "plt.title('Win Rate by Sentiment and Trade Side')\n",
    "plt.xlabel('Sentiment Score')\n",
    "plt.ylabel('Win Rate (%)')\n",
    "plt.xticks(rotation=0)\n",
    "plt.legend(title='Trade Side')\n",
    "plt.show()"
   ]
  },
  {
   "cell_type": "markdown",
   "id": "1f047733-ffd5-49a8-a8d9-bade8e2513de",
   "metadata": {},
   "source": [
    "observations were:\n",
    "\n",
    "Selling in high sentiment (Greed and Extreme Greed) showed significantly higher average PnL and a much better win rate compared to buying.\n",
    "Buying had a lower win rate across all sentiment scores."
   ]
  },
  {
   "cell_type": "markdown",
   "id": "4224cf61-0a2d-4f17-9f72-6b877e57ca8d",
   "metadata": {},
   "source": [
    "Actionable Steps to Develop Smarter Strategies:\n",
    "\n",
    "Formal Backtesting: Take the most promising insights (like selling in high greed) and develop a more formal backtesting framework. This would involve defining specific entry and exit rules, position sizing, and risk management parameters. Apply this framework to the historical data to evaluate its performance over time.\n",
    "\n",
    "Combine Sentiment with Other Indicators: Explore how adding technical indicators (e.g., RSI, MACD) or volume analysis to sentiment-based rules could improve the strategy's profitability and reduce false signals. For example, only take a \"sell in greed\" trade if there's also a bearish divergence on RSI.\n",
    "\n",
    "Consider Market Structure: Think about why these sentiment-based patterns might exist. Are they related to the behavior of retail vs. institutional traders? Market maker activity? Understanding the underlying reasons could help in developing more robust strategies."
   ]
  },
  {
   "cell_type": "markdown",
   "id": "ed4fde20-5fb6-4e67-87f2-2d61063483bf",
   "metadata": {},
   "source": [
    "Simple \"Sell in High Greed\" Backtest Idea:\n",
    "\n",
    "Entry: Place a SELL order at the open of the next trading day if the sentiment score on the previous day was 4 (Extreme Greed).\n",
    "Exit: Close the position after a fixed holding period (e.g., 1 day) or upon a predefined profit target or stop-loss level (we'd need to define these).\n",
    "Evaluation: Analyze the average PnL and win rate of all such trades in your historical data"
   ]
  }
 ],
 "metadata": {
  "kernelspec": {
   "display_name": "Python 3 (ipykernel)",
   "language": "python",
   "name": "python3"
  },
  "language_info": {
   "codemirror_mode": {
    "name": "ipython",
    "version": 3
   },
   "file_extension": ".py",
   "mimetype": "text/x-python",
   "name": "python",
   "nbconvert_exporter": "python",
   "pygments_lexer": "ipython3",
   "version": "3.12.4"
  }
 },
 "nbformat": 4,
 "nbformat_minor": 5
}
